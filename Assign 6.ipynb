{
 "cells": [
  {
   "cell_type": "code",
   "execution_count": 1,
   "id": "ab284318-8560-4cc1-a39b-8b4f5d1547e5",
   "metadata": {},
   "outputs": [
    {
     "data": {
      "text/plain": [
       "\"\\nWhen creating a custom exception in Python, \\nit's a good practice to make your custom exception \\nclass inherit from the built-in \\nException class or one of its subclasses.\\nInheriting from Exception ensures that your custom \\nexception follows the same structure and behavior as \\nthe built-in exceptions provided by Python. This consistency makes it easier for developers to understand \\nhow your custom exception works and how to handle it.\\n\""
      ]
     },
     "execution_count": 1,
     "metadata": {},
     "output_type": "execute_result"
    }
   ],
   "source": [
    "#Q1\n",
    "'''\n",
    "When creating a custom exception in Python, \n",
    "it's a good practice to make your custom exception \n",
    "class inherit from the built-in \n",
    "Exception class or one of its subclasses.\n",
    "Inheriting from Exception ensures that your custom \n",
    "exception follows the same structure and behavior as \n",
    "the built-in exceptions provided by Python. This consistency makes it easier for developers to understand \n",
    "how your custom exception works and how to handle it.\n",
    "'''"
   ]
  },
  {
   "cell_type": "code",
   "execution_count": 1,
   "id": "6fc88898-0c41-4d28-8a45-15459dd6050a",
   "metadata": {},
   "outputs": [
    {
     "data": {
      "text/plain": [
       "['__cause__',\n",
       " '__class__',\n",
       " '__context__',\n",
       " '__delattr__',\n",
       " '__dict__',\n",
       " '__dir__',\n",
       " '__doc__',\n",
       " '__eq__',\n",
       " '__format__',\n",
       " '__ge__',\n",
       " '__getattribute__',\n",
       " '__gt__',\n",
       " '__hash__',\n",
       " '__init__',\n",
       " '__init_subclass__',\n",
       " '__le__',\n",
       " '__lt__',\n",
       " '__ne__',\n",
       " '__new__',\n",
       " '__reduce__',\n",
       " '__reduce_ex__',\n",
       " '__repr__',\n",
       " '__setattr__',\n",
       " '__setstate__',\n",
       " '__sizeof__',\n",
       " '__str__',\n",
       " '__subclasshook__',\n",
       " '__suppress_context__',\n",
       " '__traceback__',\n",
       " 'args',\n",
       " 'with_traceback']"
      ]
     },
     "execution_count": 1,
     "metadata": {},
     "output_type": "execute_result"
    }
   ],
   "source": [
    "#Q2\n",
    "dir(Exception)"
   ]
  },
  {
   "cell_type": "code",
   "execution_count": 2,
   "id": "3de62766-bd30-4e03-9a6c-0c3ed43d3ea9",
   "metadata": {},
   "outputs": [
    {
     "name": "stdout",
     "output_type": "stream",
     "text": [
      "division by zero\n"
     ]
    }
   ],
   "source": [
    "#Q3\n",
    "'''\n",
    "The ArithmeticError class in Python is a base class for exceptions that occur during arithmetic operations. \n",
    "It is itself a subclass of the Exception class. \n",
    "It serves as the base for various arithmetic-related exceptions.\n",
    "Two commonly used exceptions derived from ArithmeticError are ZeroDivisionError and OverflowError. \n",
    "'''\n",
    "#ZeroDivision Error\n",
    "try:\n",
    "    result=10/0\n",
    "except ArithmeticError as e:\n",
    "    print(e)"
   ]
  },
  {
   "cell_type": "code",
   "execution_count": 3,
   "id": "ec690807-f86a-49de-8948-7cf544d44a12",
   "metadata": {},
   "outputs": [
    {
     "name": "stdout",
     "output_type": "stream",
     "text": [
      "math range error\n"
     ]
    }
   ],
   "source": [
    "#overlflow error\n",
    "import math\n",
    "try:\n",
    "    result = math.exp(1000)\n",
    "except ArithmeticError as e:\n",
    "    print(e)"
   ]
  },
  {
   "cell_type": "code",
   "execution_count": 4,
   "id": "096e681a-c930-45d7-99ca-e6658f351cfc",
   "metadata": {},
   "outputs": [],
   "source": [
    "#Q4\n",
    "'''\n",
    "The LookupError class in Python is a base class for exceptions\n",
    "related to dictionary and list-like data structures.\n",
    "It serves as a parent class for exceptions such as KeyError \n",
    "and IndexError.\n",
    "'''\n",
    "my_dict = {\"a\":1,\"b\":2}"
   ]
  },
  {
   "cell_type": "code",
   "execution_count": 7,
   "id": "0ccd2589-2394-46e1-aabc-1fb9b2f81d34",
   "metadata": {},
   "outputs": [
    {
     "name": "stdout",
     "output_type": "stream",
     "text": [
      "'c'\n"
     ]
    }
   ],
   "source": [
    "try:\n",
    "    value = my_dict['c']\n",
    "except KeyError as e:\n",
    "    print(e)"
   ]
  },
  {
   "cell_type": "code",
   "execution_count": 8,
   "id": "914ef2c7-0a4e-46f8-a1f7-c5b2af57dd9f",
   "metadata": {},
   "outputs": [
    {
     "name": "stdout",
     "output_type": "stream",
     "text": [
      "list index out of range\n"
     ]
    }
   ],
   "source": [
    "l = [1,2,3,4]\n",
    "try:\n",
    "    v = l[6]\n",
    "except IndexError as e:\n",
    "    print(e)"
   ]
  },
  {
   "cell_type": "code",
   "execution_count": 9,
   "id": "f2b51f95-0152-461b-ae88-7dd9336435ba",
   "metadata": {},
   "outputs": [
    {
     "name": "stdout",
     "output_type": "stream",
     "text": [
      "No module named 'my_module'\n"
     ]
    }
   ],
   "source": [
    "#Q5\n",
    "'''\n",
    "ImportError is a base class for exceptions\n",
    "that occur when there's a problem importing a\n",
    "module or package in Python. It can encompass \n",
    "various issues related to module imports, such \n",
    "as a missing module, a module with the same name\n",
    "as a variable,\n",
    "or an improperly structured module.\n",
    "'''\n",
    "try:\n",
    "    import my_module\n",
    "except ImportError as e:\n",
    "    print(e)"
   ]
  },
  {
   "cell_type": "code",
   "execution_count": 10,
   "id": "0b568cb7-5cea-4da2-9e77-451a82ec2c2a",
   "metadata": {},
   "outputs": [
    {
     "name": "stdout",
     "output_type": "stream",
     "text": [
      "No module named 'my_module'\n"
     ]
    }
   ],
   "source": [
    "'''\n",
    "ModuleNotFoundError is a more specific exception introduced\n",
    "in Python 3.6. It is raised when the Python interpreter \n",
    "cannot find the module you are trying to import.\n",
    "'''\n",
    "try:\n",
    "    import my_module\n",
    "except ModuleNotFoundError as e:\n",
    "    print(e)"
   ]
  },
  {
   "cell_type": "code",
   "execution_count": null,
   "id": "fbe8ceab-7fef-4d9a-8a2f-28e16f5ec336",
   "metadata": {},
   "outputs": [],
   "source": [
    "#Q6\n",
    "'''\n",
    "1.\n",
    "Use Specific Exception Types: Catch exceptions as \n",
    "specifically as possible rather than using a broad \n",
    "Exception catch-all. \n",
    "2.\n",
    "Avoid Bare except: Avoid using a bare except clause, \n",
    "which catches all exceptions indiscriminately. \n",
    "It makes it harder to identify and debug issues\n",
    "in your code.\n",
    "3.\n",
    "Use finally for Cleanup: Use a finally block for \n",
    "cleanup tasks that should always run, whether an \n",
    "exception occurred or not.\n",
    "4.\n",
    "Use Custom Exceptions: Create custom exception classes\n",
    "when necessary to provide more meaningful and context-specific \n",
    "error messages.\n",
    "5.\n",
    "Utilize the Python logging module to log error messages,\n",
    "stack traces, and other relevant information"
   ]
  }
 ],
 "metadata": {
  "kernelspec": {
   "display_name": "Python 3 (ipykernel)",
   "language": "python",
   "name": "python3"
  },
  "language_info": {
   "codemirror_mode": {
    "name": "ipython",
    "version": 3
   },
   "file_extension": ".py",
   "mimetype": "text/x-python",
   "name": "python",
   "nbconvert_exporter": "python",
   "pygments_lexer": "ipython3",
   "version": "3.10.8"
  }
 },
 "nbformat": 4,
 "nbformat_minor": 5
}
