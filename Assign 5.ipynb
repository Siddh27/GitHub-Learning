{
 "cells": [
  {
   "cell_type": "code",
   "execution_count": 1,
   "id": "7fa653d1-f4fd-4fc0-9308-27b27865fe07",
   "metadata": {},
   "outputs": [
    {
     "data": {
      "text/plain": [
       "'\\nErrors\\nThis exception is raised when the interpreter encounters a syntax error in the code, such as a misspelled keyword, a missing colon, or an unbalanced parenthesis.\\n\\nException\\nAn exception is when the program is compiled \\nsuccessfully but there is a logical error which disrupts the normal flow of the program\\nsuch as index out of bound,dvision by zero,opening a non existing file\\n'"
      ]
     },
     "execution_count": 1,
     "metadata": {},
     "output_type": "execute_result"
    }
   ],
   "source": [
    "#Q1\n",
    "'''\n",
    "Errors\n",
    "This exception is raised when the interpreter encounters a syntax error in the code, such as a misspelled keyword, a missing colon, or an unbalanced parenthesis.\n",
    "\n",
    "Exception\n",
    "An exception is when the program is compiled \n",
    "successfully but there is a logical error which disrupts the normal flow of the program\n",
    "such as index out of bound,dvision by zero,opening a non existing file\n",
    "'''"
   ]
  },
  {
   "cell_type": "code",
   "execution_count": 2,
   "id": "68f7bd5d-052e-4ccc-9f7d-22dc2fbce5e9",
   "metadata": {},
   "outputs": [
    {
     "ename": "ZeroDivisionError",
     "evalue": "division by zero",
     "output_type": "error",
     "traceback": [
      "\u001b[0;31m---------------------------------------------------------------------------\u001b[0m",
      "\u001b[0;31mZeroDivisionError\u001b[0m                         Traceback (most recent call last)",
      "Cell \u001b[0;32mIn[2], line 8\u001b[0m\n\u001b[1;32m      2\u001b[0m \u001b[38;5;124;03m'''\u001b[39;00m\n\u001b[1;32m      3\u001b[0m \u001b[38;5;124;03mWhen an exception is not handled the program stops\u001b[39;00m\n\u001b[1;32m      4\u001b[0m \u001b[38;5;124;03mthe normal execution of code and displays the exception \u001b[39;00m\n\u001b[1;32m      5\u001b[0m \u001b[38;5;124;03mfrom the Exception class handled by the compiler\u001b[39;00m\n\u001b[1;32m      6\u001b[0m \u001b[38;5;124;03m'''\u001b[39;00m\n\u001b[1;32m      7\u001b[0m a\u001b[38;5;241m=\u001b[39m\u001b[38;5;241m9\u001b[39m\n\u001b[0;32m----> 8\u001b[0m a\u001b[38;5;241m/\u001b[39m\u001b[38;5;241m=\u001b[39m\u001b[38;5;241m0\u001b[39m\n",
      "\u001b[0;31mZeroDivisionError\u001b[0m: division by zero"
     ]
    }
   ],
   "source": [
    "#Q2\n",
    "'''\n",
    "When an exception is not handled the program stops\n",
    "the normal execution of code and displays the exception \n",
    "from the Exception class handled by the compiler\n",
    "'''\n",
    "a=9\n",
    "a/=0"
   ]
  },
  {
   "cell_type": "code",
   "execution_count": 4,
   "id": "aa7bfb67-635a-4ebd-ad1c-9d3a8de306a3",
   "metadata": {},
   "outputs": [
    {
     "name": "stdin",
     "output_type": "stream",
     "text": [
      "Enter the numerator 8\n",
      "Enter the denominator 2\n"
     ]
    },
    {
     "name": "stdout",
     "output_type": "stream",
     "text": [
      "8 divided by 2 is 4.0\n",
      "You have attempted to divide 8 by 2\n"
     ]
    }
   ],
   "source": [
    "#Q3\n",
    "'''\n",
    "The python statements used to handle exceptions are\n",
    "try\n",
    "except\n",
    "else\n",
    "finally\n",
    "'''\n",
    "try:\n",
    "    a = int(input(\"Enter the numerator\"))\n",
    "    b = int (input('Enter the denominator'))\n",
    "    c=a/b\n",
    "except ZeroDivisionError as e:\n",
    "    print('You tried to divide by zero')\n",
    "else:\n",
    "    print(a,'divided by',b,'is',c)\n",
    "finally:\n",
    "    print('You have attempted to divide',a,'by',b)"
   ]
  },
  {
   "cell_type": "code",
   "execution_count": 5,
   "id": "083aef60-2fa0-4405-8064-691af8309a50",
   "metadata": {},
   "outputs": [
    {
     "data": {
      "text/plain": [
       "'\\ntry:\\nin this block you will write the logical code which may create\\nan exception or needs to be handled\\n\\nelse:\\nthis block will be executed only if there is no exception\\ncaused in try block and try block is executed successfully\\n\\nfinally:\\nthis block of code will be executed nevertheless\\nthe try block is executed successfully or not\\n\\nraise:\\nthis keyword is used to raise an exception\\nwhich is followed by a constructor of the exception\\nyou want to raise (either custom exception or built in \\nException)\\n'"
      ]
     },
     "execution_count": 5,
     "metadata": {},
     "output_type": "execute_result"
    }
   ],
   "source": [
    "#Q4\n",
    "'''\n",
    "try:\n",
    "in this block you will write the logical code which may create\n",
    "an exception or needs to be handled\n",
    "\n",
    "else:\n",
    "this block will be executed only if there is no exception\n",
    "caused in try block and try block is executed successfully\n",
    "\n",
    "finally:\n",
    "this block of code will be executed nevertheless\n",
    "the try block is executed successfully or not\n",
    "\n",
    "raise:\n",
    "this keyword is used to raise an exception\n",
    "which is followed by a constructor of the exception\n",
    "you want to raise (either custom exception or built in \n",
    "Exception)\n",
    "'''\n"
   ]
  },
  {
   "cell_type": "code",
   "execution_count": 38,
   "id": "cfac3828-1a25-41d6-a865-6e13a5675e7b",
   "metadata": {},
   "outputs": [],
   "source": [
    "#Q5 and Q6\n",
    "'''\n",
    "Custom exceptions in python are user defined exception class\n",
    "that you create to handle specific error scenarios in your code.\n",
    "\n",
    "We need custom exceptions because we may consider some scenarios\n",
    "as errors which may not be considered as errors by the built-in \n",
    "exception class\n",
    "'''\n",
    "\n",
    "class InsufficientBalance(Exception):\n",
    "    def __init__(self,msg):\n",
    "        self.msg = msg\n",
    "\n",
    "class BankAccount():\n",
    "    def __init__(self,balance):\n",
    "        self.balance = balance\n",
    "        \n",
    "    def withdraw(self,amount):\n",
    "        try:\n",
    "            if(amount<=self.balance):\n",
    "                self.balance-=amount\n",
    "                print('current balance is',self.balance)\n",
    "            else:\n",
    "                raise InsufficientBalance('you do not have enough balance')\n",
    "        except InsufficientBalance as e:\n",
    "            print(e)\n",
    "    \n",
    "    def deposit(self,amount):\n",
    "        if(amount>=0):\n",
    "            self.balance +=amount\n",
    "            print('current balance is',self.balance )\n",
    "        "
   ]
  },
  {
   "cell_type": "code",
   "execution_count": 39,
   "id": "f5186244-7ee5-45c6-9902-7031383b48ab",
   "metadata": {},
   "outputs": [],
   "source": [
    "b = BankAccount(2000)"
   ]
  },
  {
   "cell_type": "code",
   "execution_count": 40,
   "id": "fe17f034-c963-47d7-9129-d31edd037c3f",
   "metadata": {},
   "outputs": [
    {
     "name": "stdout",
     "output_type": "stream",
     "text": [
      "current balance is 4000\n"
     ]
    }
   ],
   "source": [
    "b.deposit(2000)"
   ]
  },
  {
   "cell_type": "code",
   "execution_count": 41,
   "id": "44ee3028-aa7d-4268-a9e2-2d8710258181",
   "metadata": {},
   "outputs": [
    {
     "name": "stdout",
     "output_type": "stream",
     "text": [
      "current balance is 3000\n"
     ]
    }
   ],
   "source": [
    "b.withdraw(1000)"
   ]
  },
  {
   "cell_type": "code",
   "execution_count": 42,
   "id": "842b3739-3f1f-4eab-84c8-52d1ab5225c3",
   "metadata": {},
   "outputs": [
    {
     "name": "stdout",
     "output_type": "stream",
     "text": [
      "you do not have enough balance\n"
     ]
    }
   ],
   "source": [
    "b.withdraw(5000)"
   ]
  },
  {
   "cell_type": "code",
   "execution_count": null,
   "id": "9f77119f-3bd1-472a-998a-e25b7046dd51",
   "metadata": {},
   "outputs": [],
   "source": []
  }
 ],
 "metadata": {
  "kernelspec": {
   "display_name": "Python 3 (ipykernel)",
   "language": "python",
   "name": "python3"
  },
  "language_info": {
   "codemirror_mode": {
    "name": "ipython",
    "version": 3
   },
   "file_extension": ".py",
   "mimetype": "text/x-python",
   "name": "python",
   "nbconvert_exporter": "python",
   "pygments_lexer": "ipython3",
   "version": "3.10.8"
  }
 },
 "nbformat": 4,
 "nbformat_minor": 5
}
